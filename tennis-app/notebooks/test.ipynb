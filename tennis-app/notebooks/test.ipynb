{
 "cells": [
  {
   "cell_type": "code",
   "execution_count": null,
   "id": "cbb9df1a",
   "metadata": {},
   "outputs": [],
   "source": [
    "import torch\n",
    "print(\"CUDA available:\", torch.cuda.is_available())\n",
    "print(\"Built with CUDA:\", torch.version.cuda)\n",
    "if torch.cuda.is_available():\n",
    "    print(\"GPU:\", torch.cuda.get_device_name(0))"
   ]
  },
  {
   "cell_type": "code",
   "execution_count": null,
   "id": "4db94989",
   "metadata": {},
   "outputs": [],
   "source": [
    "from ultralytics import YOLO\n",
    "import torch\n",
    "model = YOLO(\"yolov8n.pt\")\n",
    "device = 0 if torch.cuda.is_available() else \"cpu\"\n",
    "res = model.predict(source=\"https://ultralytics.com/images/bus.jpg\", device=device, imgsz=640, verbose=False)\n",
    "print(\"Device used:\", device)"
   ]
  }
 ],
 "metadata": {
  "kernelspec": {
   "display_name": "tennis_venv (3.12.7)",
   "language": "python",
   "name": "python3"
  },
  "language_info": {
   "codemirror_mode": {
    "name": "ipython",
    "version": 3
   },
   "file_extension": ".py",
   "mimetype": "text/x-python",
   "name": "python",
   "nbconvert_exporter": "python",
   "pygments_lexer": "ipython3",
   "version": "3.12.7"
  }
 },
 "nbformat": 4,
 "nbformat_minor": 5
}
